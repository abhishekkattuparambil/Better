{
 "cells": [
  {
   "cell_type": "code",
   "execution_count": 6,
   "metadata": {},
   "outputs": [
    {
     "ename": "SyntaxError",
     "evalue": "invalid syntax (<ipython-input-6-d8a330ada993>, line 1)",
     "output_type": "error",
     "traceback": [
      "\u001b[0;36m  File \u001b[0;32m\"<ipython-input-6-d8a330ada993>\"\u001b[0;36m, line \u001b[0;32m1\u001b[0m\n\u001b[0;31m    pip install sportsipy -U\u001b[0m\n\u001b[0m        ^\u001b[0m\n\u001b[0;31mSyntaxError\u001b[0m\u001b[0;31m:\u001b[0m invalid syntax\n"
     ]
    }
   ],
   "source": [
    "pip install sportsipy -U\n",
    "from sportsipy.nba.teams import Teams\n",
    "\n",
    "def get_height_in_inches(height):\n",
    "    feet, inches = height.split('-')\n",
    "    return int(feet) * 12 + int(inches)\n",
    "\n",
    "def print_tallest_player(team_heights):\n",
    "    tallest_player = max(team_heights, key=team_heights.get)\n",
    "    print('%s: %s in.' % (tallest_player, team_heights[tallest_player]))\n",
    "\n",
    "for team in Teams():\n",
    "    print('=' * 80)\n",
    "    print(team.name)\n",
    "    team_heights = {}\n",
    "    for player in team.roster.players:\n",
    "        height = get_height_in_inches(player.height)\n",
    "        team_heights[player.name] = height\n",
    "    print_tallest_player(team_heights)"
   ]
  },
  {
   "cell_type": "code",
   "execution_count": 4,
   "metadata": {},
   "outputs": [
    {
     "name": "stdout",
     "output_type": "stream",
     "text": [
      "Requirement already up-to-date: sportsipy in /Users/abhishekkattuparambil/opt/anaconda3/lib/python3.8/site-packages (0.6.0)\n",
      "Requirement already satisfied, skipping upgrade: requests>=2.18.4 in /Users/abhishekkattuparambil/opt/anaconda3/lib/python3.8/site-packages (from sportsipy) (2.25.1)\n",
      "Requirement already satisfied, skipping upgrade: pyquery>=1.4.0 in /Users/abhishekkattuparambil/opt/anaconda3/lib/python3.8/site-packages (from sportsipy) (1.4.0)\n",
      "Requirement already satisfied, skipping upgrade: pandas>=0.24.1 in /Users/abhishekkattuparambil/opt/anaconda3/lib/python3.8/site-packages (from sportsipy) (0.25.3)\n",
      "Requirement already satisfied, skipping upgrade: certifi>=2017.4.17 in /Users/abhishekkattuparambil/opt/anaconda3/lib/python3.8/site-packages (from requests>=2.18.4->sportsipy) (2020.12.5)\n",
      "Requirement already satisfied, skipping upgrade: urllib3<1.27,>=1.21.1 in /Users/abhishekkattuparambil/opt/anaconda3/lib/python3.8/site-packages (from requests>=2.18.4->sportsipy) (1.26.5)\n",
      "Requirement already satisfied, skipping upgrade: idna<3,>=2.5 in /Users/abhishekkattuparambil/opt/anaconda3/lib/python3.8/site-packages (from requests>=2.18.4->sportsipy) (2.9)\n",
      "Requirement already satisfied, skipping upgrade: chardet<5,>=3.0.2 in /Users/abhishekkattuparambil/opt/anaconda3/lib/python3.8/site-packages (from requests>=2.18.4->sportsipy) (4.0.0)\n",
      "Requirement already satisfied, skipping upgrade: cssselect>0.7.9 in /Users/abhishekkattuparambil/opt/anaconda3/lib/python3.8/site-packages (from pyquery>=1.4.0->sportsipy) (1.1.0)\n",
      "Requirement already satisfied, skipping upgrade: lxml>=2.1 in /Users/abhishekkattuparambil/opt/anaconda3/lib/python3.8/site-packages (from pyquery>=1.4.0->sportsipy) (4.6.3)\n",
      "Requirement already satisfied, skipping upgrade: pytz>=2017.2 in /Users/abhishekkattuparambil/opt/anaconda3/lib/python3.8/site-packages (from pandas>=0.24.1->sportsipy) (2020.5)\n",
      "Requirement already satisfied, skipping upgrade: numpy>=1.13.3 in /Users/abhishekkattuparambil/opt/anaconda3/lib/python3.8/site-packages (from pandas>=0.24.1->sportsipy) (1.19.5)\n",
      "Requirement already satisfied, skipping upgrade: python-dateutil>=2.6.1 in /Users/abhishekkattuparambil/opt/anaconda3/lib/python3.8/site-packages (from pandas>=0.24.1->sportsipy) (2.8.1)\n",
      "Requirement already satisfied, skipping upgrade: six>=1.5 in /Users/abhishekkattuparambil/opt/anaconda3/lib/python3.8/site-packages (from python-dateutil>=2.6.1->pandas>=0.24.1->sportsipy) (1.15.0)\n",
      "Note: you may need to restart the kernel to use updated packages.\n"
     ]
    }
   ],
   "source": []
  },
  {
   "cell_type": "code",
   "execution_count": null,
   "metadata": {},
   "outputs": [],
   "source": []
  }
 ],
 "metadata": {
  "kernelspec": {
   "display_name": "Python 3",
   "language": "python",
   "name": "python3"
  },
  "language_info": {
   "codemirror_mode": {
    "name": "ipython",
    "version": 3
   },
   "file_extension": ".py",
   "mimetype": "text/x-python",
   "name": "python",
   "nbconvert_exporter": "python",
   "pygments_lexer": "ipython3",
   "version": "3.8.5"
  }
 },
 "nbformat": 4,
 "nbformat_minor": 4
}
